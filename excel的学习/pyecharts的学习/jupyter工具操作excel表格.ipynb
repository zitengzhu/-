{
 "cells": [
  {
   "cell_type": "code",
   "execution_count": 3,
   "id": "16228304-2fa6-4dd4-8336-60db10ecb889",
   "metadata": {},
   "outputs": [],
   "source": [
    "import pandas as pd"
   ]
  },
  {
   "cell_type": "code",
   "execution_count": 4,
   "id": "15be3416-b733-4128-a238-8edeeaafaa65",
   "metadata": {},
   "outputs": [],
   "source": [
    "data = {\n",
    "\"name\": [\"张三\", \"李四\", \"王五\", \"李四\", \"王五\", \"王五\", \"赵六\"],\n",
    "\"chinese\": [18, 53, 67, 63, 39, 70, 94],\n",
    "\"math\": [82, 63, 41, 59, 46, 39, 58],\n",
    "\"english\": [68, 52, 90, 86, 60, 98, 64],\n",
    "\"week\": [\"周一\", \"周二\", \"周二\", \"周二\", \"周二\", \"周二\", \"周二\"],\n",
    "\n",
    "}"
   ]
  },
  {
   "cell_type": "code",
   "execution_count": 5,
   "id": "518321ad-d4a3-4ed6-88e4-187003a25c31",
   "metadata": {},
   "outputs": [
    {
     "name": "stdout",
     "output_type": "stream",
     "text": [
      "{'name': ['张三', '李四', '王五', '李四', '王五', '王五', '赵六'], 'chinese': [18, 53, 67, 63, 39, 70, 94], 'math': [82, 63, 41, 59, 46, 39, 58], 'english': [68, 52, 90, 86, 60, 98, 64], 'week': ['周一', '周二', '周二', '周二', '周二', '周二', '周二']}\n"
     ]
    }
   ],
   "source": [
    "print(data)"
   ]
  },
  {
   "cell_type": "code",
   "execution_count": 6,
   "id": "ef8fb556-ec3a-4106-8b81-8be24f6fafb1",
   "metadata": {},
   "outputs": [
    {
     "name": "stdout",
     "output_type": "stream",
     "text": [
      "  name  chinese  math  english week\n",
      "0   张三       18    82       68   周一\n",
      "1   李四       53    63       52   周二\n",
      "2   王五       67    41       90   周二\n",
      "3   李四       63    59       86   周二\n",
      "4   王五       39    46       60   周二\n",
      "5   王五       70    39       98   周二\n",
      "6   赵六       94    58       64   周二\n"
     ]
    }
   ],
   "source": [
    "# 数据不好观察将数据进行二维化处理\n",
    "df = pd.DataFrame(data)\n",
    "print(df)"
   ]
  },
  {
   "cell_type": "code",
   "execution_count": null,
   "id": "30232060-ed23-43a7-ab74-e8b482bc03cf",
   "metadata": {},
   "outputs": [],
   "source": [
    "# 数据方便查看之后开始进行数据的查找"
   ]
  },
  {
   "cell_type": "code",
   "execution_count": 10,
   "id": "f5b084e3-348f-476e-9d0b-fa2e99e37ef4",
   "metadata": {},
   "outputs": [
    {
     "name": "stdout",
     "output_type": "stream",
     "text": [
      "<class 'pandas.core.frame.DataFrame'>\n",
      "RangeIndex: 7 entries, 0 to 6\n",
      "Data columns (total 5 columns):\n",
      " #   Column   Non-Null Count  Dtype \n",
      "---  ------   --------------  ----- \n",
      " 0   name     7 non-null      object\n",
      " 1   chinese  7 non-null      int64 \n",
      " 2   math     7 non-null      int64 \n",
      " 3   english  7 non-null      int64 \n",
      " 4   week     7 non-null      object\n",
      "dtypes: int64(3), object(2)\n",
      "memory usage: 412.0+ bytes\n",
      "None\n"
     ]
    }
   ],
   "source": [
    "# 查看数据的info数据\n",
    "print(df.info())"
   ]
  },
  {
   "cell_type": "code",
   "execution_count": 11,
   "id": "999ad34b-c56a-4df9-948d-6b6983ccb1a6",
   "metadata": {},
   "outputs": [
    {
     "name": "stdout",
     "output_type": "stream",
     "text": [
      "         chinese       math    english\n",
      "count   7.000000   7.000000   7.000000\n",
      "mean   57.714286  55.428571  74.000000\n",
      "std    24.260491  14.998413  17.281975\n",
      "min    18.000000  39.000000  52.000000\n",
      "25%    46.000000  43.500000  62.000000\n",
      "50%    63.000000  58.000000  68.000000\n",
      "75%    68.500000  61.000000  88.000000\n",
      "max    94.000000  82.000000  98.000000\n"
     ]
    }
   ],
   "source": [
    "# 查看数据的describe数据\n",
    "print(df.describe())"
   ]
  },
  {
   "cell_type": "code",
   "execution_count": 12,
   "id": "ca2c988e-134f-417d-be7e-8f6163937c33",
   "metadata": {},
   "outputs": [
    {
     "name": "stdout",
     "output_type": "stream",
     "text": [
      "  name  chinese  math  english week\n",
      "0   张三       18    82       68   周一\n",
      "1   李四       53    63       52   周二\n",
      "2   王五       67    41       90   周二\n",
      "3   李四       63    59       86   周二\n",
      "4   王五       39    46       60   周二\n"
     ]
    }
   ],
   "source": [
    "# 获取头部数据\n",
    "print(df.head())"
   ]
  },
  {
   "cell_type": "code",
   "execution_count": 13,
   "id": "c4ed25d5-46f4-47b8-adad-9680bf39c307",
   "metadata": {},
   "outputs": [
    {
     "name": "stdout",
     "output_type": "stream",
     "text": [
      "0    张三\n",
      "1    李四\n",
      "2    王五\n",
      "3    李四\n",
      "4    王五\n",
      "5    王五\n",
      "6    赵六\n",
      "Name: name, dtype: object\n"
     ]
    }
   ],
   "source": [
    "# 获取name的标签页\n",
    "print(df.loc[:,'name'])"
   ]
  },
  {
   "cell_type": "code",
   "execution_count": null,
   "id": "0dfc65c9-baef-4c7f-b5fb-da1fb9f02aad",
   "metadata": {},
   "outputs": [],
   "source": []
  }
 ],
 "metadata": {
  "kernelspec": {
   "display_name": "Python 3 (ipykernel)",
   "language": "python",
   "name": "python3"
  },
  "language_info": {
   "codemirror_mode": {
    "name": "ipython",
    "version": 3
   },
   "file_extension": ".py",
   "mimetype": "text/x-python",
   "name": "python",
   "nbconvert_exporter": "python",
   "pygments_lexer": "ipython3",
   "version": "3.11.5"
  }
 },
 "nbformat": 4,
 "nbformat_minor": 5
}
