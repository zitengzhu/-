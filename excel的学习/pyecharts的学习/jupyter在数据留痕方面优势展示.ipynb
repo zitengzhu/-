{
 "cells": [
  {
   "cell_type": "code",
   "execution_count": 2,
   "id": "25b8dee8-a141-486b-bd90-ab4ad0e73256",
   "metadata": {},
   "outputs": [],
   "source": [
    "import pandas as pd"
   ]
  },
  {
   "cell_type": "code",
   "execution_count": 3,
   "id": "976f56f6-7d91-40b9-971b-ababe0f84e2e",
   "metadata": {},
   "outputs": [],
   "source": [
    "data = {\n",
    "    \"name\": [\"张三\", \"李四\", \"王五\", \"李四\", \"王五\", \"王五\", \"赵六\"],\n",
    "    \"chinese\": [18, 53, 67, 63, 39, 70, 94],\n",
    "    \"math\": [82, 63, 41, 59, 46, 39, 58],\n",
    "    \"english\": [68, 52, 90, 86, 60, 98, 64],\n",
    "    'week': [\"周一\", \"周二\", \"周一\", \"周二\", \"周一\", \"周二\", \"周一\"]\n",
    "}\n",
    "# print(data)\n",
    "# print(type(data))  #<class 'dict'>\n",
    "# 把数据从字典转为二维数组\n",
    "df = pd.DataFrame(data)"
   ]
  },
  {
   "cell_type": "code",
   "execution_count": 4,
   "id": "0f5ff7ce-1811-46a1-b4b3-f1b83e33b5a9",
   "metadata": {},
   "outputs": [
    {
     "name": "stdout",
     "output_type": "stream",
     "text": [
      "0    张三\n",
      "1    李四\n",
      "2    王五\n",
      "3    李四\n",
      "4    王五\n",
      "5    王五\n",
      "6    赵六\n",
      "Name: name, dtype: object\n"
     ]
    }
   ],
   "source": [
    "print(df.loc[:, \"name\"])"
   ]
  },
  {
   "cell_type": "code",
   "execution_count": 5,
   "id": "89fd7c08-603f-4b63-ab0b-d8d93be3c27a",
   "metadata": {},
   "outputs": [
    {
     "name": "stdout",
     "output_type": "stream",
     "text": [
      "  name  chinese  math  english week\n",
      "0   张三       18    82       68   周一\n",
      "1   李四       53    63       52   周二\n"
     ]
    }
   ],
   "source": [
    "print(df.loc[[0, 1], :])"
   ]
  },
  {
   "cell_type": "code",
   "execution_count": 6,
   "id": "df5f21b9-e6e6-4db4-89cc-d50458668a52",
   "metadata": {},
   "outputs": [
    {
     "name": "stdout",
     "output_type": "stream",
     "text": [
      "  name  math\n",
      "3   李四    59\n",
      "4   王五    46\n"
     ]
    }
   ],
   "source": [
    "print(df.loc[[3, 4], [\"name\", \"math\"]])"
   ]
  },
  {
   "cell_type": "code",
   "execution_count": null,
   "id": "3d722e69-8e1d-462a-842d-8abe512cb363",
   "metadata": {},
   "outputs": [],
   "source": [
    "# jupyter 在数据留痕方面的优势十分明显 打可以显示每一次打印数据时  da"
   ]
  }
 ],
 "metadata": {
  "kernelspec": {
   "display_name": "Python 3 (ipykernel)",
   "language": "python",
   "name": "python3"
  },
  "language_info": {
   "codemirror_mode": {
    "name": "ipython",
    "version": 3
   },
   "file_extension": ".py",
   "mimetype": "text/x-python",
   "name": "python",
   "nbconvert_exporter": "python",
   "pygments_lexer": "ipython3",
   "version": "3.11.5"
  }
 },
 "nbformat": 4,
 "nbformat_minor": 5
}
